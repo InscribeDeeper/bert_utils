{
  "nbformat": 4,
  "nbformat_minor": 0,
  "metadata": {
    "colab": {
      "name": "conf_qa_similarity.ipynb",
      "provenance": [],
      "include_colab_link": true
    },
    "kernelspec": {
      "name": "python3",
      "display_name": "Python 3"
    },
    "language_info": {
      "name": "python"
    }
  },
  "cells": [
    {
      "cell_type": "markdown",
      "metadata": {
        "id": "view-in-github",
        "colab_type": "text"
      },
      "source": [
        "<a href=\"https://colab.research.google.com/github/InscribeDeeper/bert_utils/blob/Jujun/conf_qa_similarity.ipynb\" target=\"_parent\"><img src=\"https://colab.research.google.com/assets/colab-badge.svg\" alt=\"Open In Colab\"/></a>"
      ]
    },
    {
      "cell_type": "code",
      "execution_count": null,
      "metadata": {
        "id": "YIs_eAYbtocJ"
      },
      "outputs": [],
      "source": [
        "import warnings\n",
        "warnings.simplefilter(action='ignore', category=FutureWarning)\n",
        "\n",
        "from IPython.core.interactiveshell import InteractiveShell\n",
        "InteractiveShell.ast_node_interactivity = \"all\""
      ]
    },
    {
      "cell_type": "code",
      "source": [
        "from google.colab import drive\n",
        "drive.mount('/content/drive')"
      ],
      "metadata": {
        "colab": {
          "base_uri": "https://localhost:8080/"
        },
        "id": "ETFT23Rztxgo",
        "outputId": "4e0e9da0-6a2e-4786-ded7-cc734e803616"
      },
      "execution_count": null,
      "outputs": [
        {
          "output_type": "stream",
          "name": "stdout",
          "text": [
            "Mounted at /content/drive\n"
          ]
        }
      ]
    },
    {
      "cell_type": "code",
      "source": [
        "import sys, os\n",
        "# nb_path = '/content/rl'\n",
        "# #os.symlink('/content/drive/MyDrive/Colab_Notebooks', nb_path)\n",
        "\n",
        "# package_path = '/content/drive/MyDrive/Colab_Notebooks/packages'\n",
        "# sys.path.insert(0,nb_path)\n",
        "# sys.path.insert(0,package_path)\n",
        "\n",
        "cur_path = os.path.join('/content/drive/MyDrive/Conf_Call/','Conf_Call')\n",
        "print(os.getcwd())\n",
        "os.chdir(cur_path)"
      ],
      "metadata": {
        "colab": {
          "base_uri": "https://localhost:8080/"
        },
        "id": "1uLHdEfiAIFR",
        "outputId": "2d7c3ed8-6b31-48c7-b8ee-90c24ee7d587"
      },
      "execution_count": null,
      "outputs": [
        {
          "output_type": "stream",
          "name": "stdout",
          "text": [
            "/content\n"
          ]
        }
      ]
    },
    {
      "cell_type": "code",
      "source": [
        "import random, pickle\n",
        "import numpy as np\n",
        "import pandas as pd\n"
      ],
      "metadata": {
        "id": "0sB9naxity8X"
      },
      "execution_count": null,
      "outputs": []
    },
    {
      "cell_type": "code",
      "source": [
        "# Load the dataset into a pandas dataframe.\n",
        "\n",
        "#data for merging yi and kiera\n",
        "df = pd.read_csv(\"./code/5_emotion_extraction/merge_qa_label.csv\", encoding=\"ISO-8859-1\", index_col=0)\n",
        "\n",
        "\n",
        "print(df.head())\n",
        "# Report the number of sentences.\n",
        "print('Number of training sentences: {:,}\\n'.format(df.shape[0]))\n",
        "df = df.drop(['Unnamed: 2'], axis=1)\n",
        "# df = df.rename(columns={'merged':'label'})\n",
        "# Display 10 random rows from the data.\n",
        "df.sample(10)"
      ],
      "metadata": {
        "colab": {
          "base_uri": "https://localhost:8080/",
          "height": 506
        },
        "id": "lmfRhqF_AAkY",
        "outputId": "56577db2-9a2c-485a-91b4-76fa3f5c8adc"
      },
      "execution_count": null,
      "outputs": [
        {
          "output_type": "stream",
          "name": "stdout",
          "text": [
            "                                            sentence Unnamed: 2  label\n",
            "0  But I??m just wondering how you actually manag...        NaN      0\n",
            "1  And how long did it took before they were at p...        NaN      0\n",
            "2  It was interesting that you didn't call out cl...        NaN      1\n",
            "3  What exactly is going on there that's allowing...        NaN      1\n",
            "4                            What is going on there?        NaN      0\n",
            "Number of training sentences: 1,173\n",
            "\n"
          ]
        },
        {
          "output_type": "execute_result",
          "data": {
            "text/plain": [
              "                                              sentence  label\n",
              "243  How is that happening, with little variation o...      0\n",
              "215  It is amazing to us how that maintenance CapEx...      0\n",
              "882  Okay, so that is not kind of a slippery slope ...      1\n",
              "856  And is it true that Ralph Polterman did the ta...      0\n",
              "778  Just as you think about the growth in QuickBoo...      0\n",
              "926  Has the structure of that program changed at a...      0\n",
              "996  But Derek, when you were talking about the EET...      0\n",
              "131  Is it kind of unexpected as they are related t...      1\n",
              "72   So I was wondering what exactly was going on t...      0\n",
              "142  I was impressed that even though you've had so...      1"
            ],
            "text/html": [
              "\n",
              "  <div id=\"df-bb697ef0-1c76-40d7-be11-9f41e678e026\">\n",
              "    <div class=\"colab-df-container\">\n",
              "      <div>\n",
              "<style scoped>\n",
              "    .dataframe tbody tr th:only-of-type {\n",
              "        vertical-align: middle;\n",
              "    }\n",
              "\n",
              "    .dataframe tbody tr th {\n",
              "        vertical-align: top;\n",
              "    }\n",
              "\n",
              "    .dataframe thead th {\n",
              "        text-align: right;\n",
              "    }\n",
              "</style>\n",
              "<table border=\"1\" class=\"dataframe\">\n",
              "  <thead>\n",
              "    <tr style=\"text-align: right;\">\n",
              "      <th></th>\n",
              "      <th>sentence</th>\n",
              "      <th>label</th>\n",
              "    </tr>\n",
              "  </thead>\n",
              "  <tbody>\n",
              "    <tr>\n",
              "      <th>243</th>\n",
              "      <td>How is that happening, with little variation o...</td>\n",
              "      <td>0</td>\n",
              "    </tr>\n",
              "    <tr>\n",
              "      <th>215</th>\n",
              "      <td>It is amazing to us how that maintenance CapEx...</td>\n",
              "      <td>0</td>\n",
              "    </tr>\n",
              "    <tr>\n",
              "      <th>882</th>\n",
              "      <td>Okay, so that is not kind of a slippery slope ...</td>\n",
              "      <td>1</td>\n",
              "    </tr>\n",
              "    <tr>\n",
              "      <th>856</th>\n",
              "      <td>And is it true that Ralph Polterman did the ta...</td>\n",
              "      <td>0</td>\n",
              "    </tr>\n",
              "    <tr>\n",
              "      <th>778</th>\n",
              "      <td>Just as you think about the growth in QuickBoo...</td>\n",
              "      <td>0</td>\n",
              "    </tr>\n",
              "    <tr>\n",
              "      <th>926</th>\n",
              "      <td>Has the structure of that program changed at a...</td>\n",
              "      <td>0</td>\n",
              "    </tr>\n",
              "    <tr>\n",
              "      <th>996</th>\n",
              "      <td>But Derek, when you were talking about the EET...</td>\n",
              "      <td>0</td>\n",
              "    </tr>\n",
              "    <tr>\n",
              "      <th>131</th>\n",
              "      <td>Is it kind of unexpected as they are related t...</td>\n",
              "      <td>1</td>\n",
              "    </tr>\n",
              "    <tr>\n",
              "      <th>72</th>\n",
              "      <td>So I was wondering what exactly was going on t...</td>\n",
              "      <td>0</td>\n",
              "    </tr>\n",
              "    <tr>\n",
              "      <th>142</th>\n",
              "      <td>I was impressed that even though you've had so...</td>\n",
              "      <td>1</td>\n",
              "    </tr>\n",
              "  </tbody>\n",
              "</table>\n",
              "</div>\n",
              "      <button class=\"colab-df-convert\" onclick=\"convertToInteractive('df-bb697ef0-1c76-40d7-be11-9f41e678e026')\"\n",
              "              title=\"Convert this dataframe to an interactive table.\"\n",
              "              style=\"display:none;\">\n",
              "        \n",
              "  <svg xmlns=\"http://www.w3.org/2000/svg\" height=\"24px\"viewBox=\"0 0 24 24\"\n",
              "       width=\"24px\">\n",
              "    <path d=\"M0 0h24v24H0V0z\" fill=\"none\"/>\n",
              "    <path d=\"M18.56 5.44l.94 2.06.94-2.06 2.06-.94-2.06-.94-.94-2.06-.94 2.06-2.06.94zm-11 1L8.5 8.5l.94-2.06 2.06-.94-2.06-.94L8.5 2.5l-.94 2.06-2.06.94zm10 10l.94 2.06.94-2.06 2.06-.94-2.06-.94-.94-2.06-.94 2.06-2.06.94z\"/><path d=\"M17.41 7.96l-1.37-1.37c-.4-.4-.92-.59-1.43-.59-.52 0-1.04.2-1.43.59L10.3 9.45l-7.72 7.72c-.78.78-.78 2.05 0 2.83L4 21.41c.39.39.9.59 1.41.59.51 0 1.02-.2 1.41-.59l7.78-7.78 2.81-2.81c.8-.78.8-2.07 0-2.86zM5.41 20L4 18.59l7.72-7.72 1.47 1.35L5.41 20z\"/>\n",
              "  </svg>\n",
              "      </button>\n",
              "      \n",
              "  <style>\n",
              "    .colab-df-container {\n",
              "      display:flex;\n",
              "      flex-wrap:wrap;\n",
              "      gap: 12px;\n",
              "    }\n",
              "\n",
              "    .colab-df-convert {\n",
              "      background-color: #E8F0FE;\n",
              "      border: none;\n",
              "      border-radius: 50%;\n",
              "      cursor: pointer;\n",
              "      display: none;\n",
              "      fill: #1967D2;\n",
              "      height: 32px;\n",
              "      padding: 0 0 0 0;\n",
              "      width: 32px;\n",
              "    }\n",
              "\n",
              "    .colab-df-convert:hover {\n",
              "      background-color: #E2EBFA;\n",
              "      box-shadow: 0px 1px 2px rgba(60, 64, 67, 0.3), 0px 1px 3px 1px rgba(60, 64, 67, 0.15);\n",
              "      fill: #174EA6;\n",
              "    }\n",
              "\n",
              "    [theme=dark] .colab-df-convert {\n",
              "      background-color: #3B4455;\n",
              "      fill: #D2E3FC;\n",
              "    }\n",
              "\n",
              "    [theme=dark] .colab-df-convert:hover {\n",
              "      background-color: #434B5C;\n",
              "      box-shadow: 0px 1px 3px 1px rgba(0, 0, 0, 0.15);\n",
              "      filter: drop-shadow(0px 1px 2px rgba(0, 0, 0, 0.3));\n",
              "      fill: #FFFFFF;\n",
              "    }\n",
              "  </style>\n",
              "\n",
              "      <script>\n",
              "        const buttonEl =\n",
              "          document.querySelector('#df-bb697ef0-1c76-40d7-be11-9f41e678e026 button.colab-df-convert');\n",
              "        buttonEl.style.display =\n",
              "          google.colab.kernel.accessAllowed ? 'block' : 'none';\n",
              "\n",
              "        async function convertToInteractive(key) {\n",
              "          const element = document.querySelector('#df-bb697ef0-1c76-40d7-be11-9f41e678e026');\n",
              "          const dataTable =\n",
              "            await google.colab.kernel.invokeFunction('convertToInteractive',\n",
              "                                                     [key], {});\n",
              "          if (!dataTable) return;\n",
              "\n",
              "          const docLinkHtml = 'Like what you see? Visit the ' +\n",
              "            '<a target=\"_blank\" href=https://colab.research.google.com/notebooks/data_table.ipynb>data table notebook</a>'\n",
              "            + ' to learn more about interactive tables.';\n",
              "          element.innerHTML = '';\n",
              "          dataTable['output_type'] = 'display_data';\n",
              "          await google.colab.output.renderOutput(dataTable, element);\n",
              "          const docLink = document.createElement('div');\n",
              "          docLink.innerHTML = docLinkHtml;\n",
              "          element.appendChild(docLink);\n",
              "        }\n",
              "      </script>\n",
              "    </div>\n",
              "  </div>\n",
              "  "
            ]
          },
          "metadata": {},
          "execution_count": 6
        }
      ]
    },
    {
      "cell_type": "code",
      "source": [
        "from sklearn.feature_extraction.text import TfidfVectorizer\n",
        "from sklearn.metrics import pairwise_distances"
      ],
      "metadata": {
        "id": "H2s7P9naABC5"
      },
      "execution_count": null,
      "outputs": []
    },
    {
      "cell_type": "code",
      "source": [
        "vectorizer = TfidfVectorizer()\n",
        "X = vectorizer.fit_transform(list(df.sentence))"
      ],
      "metadata": {
        "id": "Y-X0xsqgBdnc"
      },
      "execution_count": null,
      "outputs": []
    },
    {
      "cell_type": "code",
      "source": [
        "X"
      ],
      "metadata": {
        "colab": {
          "base_uri": "https://localhost:8080/"
        },
        "id": "2kXlUTpWBoWj",
        "outputId": "147af5fe-b0a5-4a45-8b09-4a09c62787fb"
      },
      "execution_count": null,
      "outputs": [
        {
          "output_type": "execute_result",
          "data": {
            "text/plain": [
              "<1173x3041 sparse matrix of type '<class 'numpy.float64'>'\n",
              "\twith 20194 stored elements in Compressed Sparse Row format>"
            ]
          },
          "metadata": {},
          "execution_count": 9
        }
      ]
    },
    {
      "cell_type": "code",
      "source": [
        "S = 1 - pairwise_distances(X, metric=\"cosine\")"
      ],
      "metadata": {
        "id": "bDny_epHDzbG"
      },
      "execution_count": null,
      "outputs": []
    },
    {
      "cell_type": "code",
      "source": [
        "S"
      ],
      "metadata": {
        "colab": {
          "base_uri": "https://localhost:8080/"
        },
        "id": "3fY4bevADzd8",
        "outputId": "523eb0c1-d62a-422a-d578-ba07eb4440b3"
      },
      "execution_count": null,
      "outputs": [
        {
          "output_type": "execute_result",
          "data": {
            "text/plain": [
              "array([[1.        , 0.05727615, 0.01850899, ..., 0.0926722 , 0.04498216,\n",
              "        0.02290986],\n",
              "       [0.05727615, 1.        , 0.02603023, ..., 0.02114088, 0.05817856,\n",
              "        0.00804566],\n",
              "       [0.01850899, 0.02603023, 1.        , ..., 0.04234358, 0.06686829,\n",
              "        0.03940899],\n",
              "       ...,\n",
              "       [0.0926722 , 0.02114088, 0.04234358, ..., 1.        , 0.09084942,\n",
              "        0.05606477],\n",
              "       [0.04498216, 0.05817856, 0.06686829, ..., 0.09084942, 1.        ,\n",
              "        0.03044562],\n",
              "       [0.02290986, 0.00804566, 0.03940899, ..., 0.05606477, 0.03044562,\n",
              "        1.        ]])"
            ]
          },
          "metadata": {},
          "execution_count": 11
        }
      ]
    },
    {
      "cell_type": "code",
      "source": [
        "S.shape"
      ],
      "metadata": {
        "colab": {
          "base_uri": "https://localhost:8080/"
        },
        "id": "M7DkEXLFBtpE",
        "outputId": "0e4b8380-733b-48d2-d7b5-8b195888c15c"
      },
      "execution_count": null,
      "outputs": [
        {
          "output_type": "execute_result",
          "data": {
            "text/plain": [
              "(1173, 1173)"
            ]
          },
          "metadata": {},
          "execution_count": 26
        }
      ]
    },
    {
      "cell_type": "code",
      "source": [
        "S_1 = S.copy()\n",
        "S_1 = S_1.astype(np.float)"
      ],
      "metadata": {
        "colab": {
          "base_uri": "https://localhost:8080/"
        },
        "id": "S3D83egXCMi_",
        "outputId": "abd58cc3-24fb-4bf0-8356-d15f454132d2"
      },
      "execution_count": null,
      "outputs": [
        {
          "output_type": "stream",
          "name": "stderr",
          "text": [
            "/usr/local/lib/python3.7/dist-packages/ipykernel_launcher.py:2: DeprecationWarning: `np.float` is a deprecated alias for the builtin `float`. To silence this warning, use `float` by itself. Doing this will not modify any behavior and is safe. If you specifically wanted the numpy scalar type, use `np.float64` here.\n",
            "Deprecated in NumPy 1.20; for more details and guidance: https://numpy.org/devdocs/release/1.20.0-notes.html#deprecations\n",
            "  \n"
          ]
        }
      ]
    },
    {
      "cell_type": "code",
      "source": [
        "S_1"
      ],
      "metadata": {
        "colab": {
          "base_uri": "https://localhost:8080/"
        },
        "id": "SC4tB7xQEdiG",
        "outputId": "19c8c27a-50be-4269-a0b4-f29b34383483"
      },
      "execution_count": null,
      "outputs": [
        {
          "output_type": "execute_result",
          "data": {
            "text/plain": [
              "array([[1.        , 0.05727615, 0.01850899, ..., 0.0926722 , 0.04498216,\n",
              "        0.02290986],\n",
              "       [0.05727615, 1.        , 0.02603023, ..., 0.02114088, 0.05817856,\n",
              "        0.00804566],\n",
              "       [0.01850899, 0.02603023, 1.        , ..., 0.04234358, 0.06686829,\n",
              "        0.03940899],\n",
              "       ...,\n",
              "       [0.0926722 , 0.02114088, 0.04234358, ..., 1.        , 0.09084942,\n",
              "        0.05606477],\n",
              "       [0.04498216, 0.05817856, 0.06686829, ..., 0.09084942, 1.        ,\n",
              "        0.03044562],\n",
              "       [0.02290986, 0.00804566, 0.03940899, ..., 0.05606477, 0.03044562,\n",
              "        1.        ]])"
            ]
          },
          "metadata": {},
          "execution_count": 48
        }
      ]
    },
    {
      "cell_type": "code",
      "source": [
        "S_1.shape"
      ],
      "metadata": {
        "colab": {
          "base_uri": "https://localhost:8080/"
        },
        "id": "yP_oDxTSEfcM",
        "outputId": "35808323-22bc-410e-bb2a-787d94643723"
      },
      "execution_count": null,
      "outputs": [
        {
          "output_type": "execute_result",
          "data": {
            "text/plain": [
              "(1173, 1173)"
            ]
          },
          "metadata": {},
          "execution_count": 49
        }
      ]
    },
    {
      "cell_type": "code",
      "source": [
        "np.fill_diagonal(S_1, -1)"
      ],
      "metadata": {
        "id": "JY08QM8vCO1e"
      },
      "execution_count": null,
      "outputs": []
    },
    {
      "cell_type": "code",
      "source": [
        "S_1"
      ],
      "metadata": {
        "colab": {
          "base_uri": "https://localhost:8080/"
        },
        "id": "lfxq0gcHCXNX",
        "outputId": "31e6c081-23d8-4b5e-986f-433f3288ccde"
      },
      "execution_count": null,
      "outputs": [
        {
          "output_type": "execute_result",
          "data": {
            "text/plain": [
              "array([[-1.        ,  0.05727615,  0.01850899, ...,  0.0926722 ,\n",
              "         0.04498216,  0.02290986],\n",
              "       [ 0.05727615, -1.        ,  0.02603023, ...,  0.02114088,\n",
              "         0.05817856,  0.00804566],\n",
              "       [ 0.01850899,  0.02603023, -1.        , ...,  0.04234358,\n",
              "         0.06686829,  0.03940899],\n",
              "       ...,\n",
              "       [ 0.0926722 ,  0.02114088,  0.04234358, ..., -1.        ,\n",
              "         0.09084942,  0.05606477],\n",
              "       [ 0.04498216,  0.05817856,  0.06686829, ...,  0.09084942,\n",
              "        -1.        ,  0.03044562],\n",
              "       [ 0.02290986,  0.00804566,  0.03940899, ...,  0.05606477,\n",
              "         0.03044562, -1.        ]])"
            ]
          },
          "metadata": {},
          "execution_count": 51
        }
      ]
    },
    {
      "cell_type": "code",
      "source": [],
      "metadata": {
        "id": "NYb_D3nKEa-m"
      },
      "execution_count": null,
      "outputs": []
    },
    {
      "cell_type": "code",
      "source": [
        "a = np.where(S_1 > 0.6)"
      ],
      "metadata": {
        "id": "B0_kzIuEBoSw"
      },
      "execution_count": null,
      "outputs": []
    },
    {
      "cell_type": "code",
      "source": [
        "a"
      ],
      "metadata": {
        "colab": {
          "base_uri": "https://localhost:8080/"
        },
        "id": "7HxbA-fQBoVL",
        "outputId": "eb7346fa-7c5e-4ba8-8531-82da93771e6b"
      },
      "execution_count": null,
      "outputs": [
        {
          "output_type": "execute_result",
          "data": {
            "text/plain": [
              "(array([  4, 112, 117, 158, 207, 210, 323, 362, 362, 416]),\n",
              " array([158, 207, 210,   4, 112, 117, 362, 323, 416, 362]))"
            ]
          },
          "metadata": {},
          "execution_count": 72
        }
      ]
    },
    {
      "cell_type": "code",
      "source": [
        "for idx,i in enumerate(a[0][0:int(len(a[0])/2)]):\n",
        "    print(i, a[1][idx])\n",
        "    print(df.iloc[[i, a[1][idx]],:])\n",
        "    print('**************')"
      ],
      "metadata": {
        "colab": {
          "base_uri": "https://localhost:8080/"
        },
        "id": "JGo89MvOFA_T",
        "outputId": "38d5bf8e-ee0d-47e7-a0fa-0d6ecfa94f74"
      },
      "execution_count": null,
      "outputs": [
        {
          "output_type": "stream",
          "name": "stdout",
          "text": [
            "4 158\n",
            "                     sentence  label\n",
            "4     What is going on there?      0\n",
            "158  What was going on there?      0\n",
            "**************\n",
            "112 207\n",
            "                         sentence  label\n",
            "112  And what the timing on that?      0\n",
            "207  What was the timing on that?      0\n",
            "**************\n",
            "117 210\n",
            "                                            sentence  label\n",
            "117                      I wasn't sure why that was.      0\n",
            "210  I wasn??t sure why that was getting called out.      0\n",
            "**************\n",
            "158 4\n",
            "                     sentence  label\n",
            "158  What was going on there?      0\n",
            "4     What is going on there?      0\n",
            "**************\n",
            "207 112\n",
            "                         sentence  label\n",
            "207  What was the timing on that?      0\n",
            "112  And what the timing on that?      0\n",
            "**************\n"
          ]
        }
      ]
    },
    {
      "cell_type": "code",
      "source": [],
      "metadata": {
        "id": "_8D3jU4qFBEL"
      },
      "execution_count": null,
      "outputs": []
    },
    {
      "cell_type": "code",
      "source": [],
      "metadata": {
        "id": "CU-mU1gRFBGt"
      },
      "execution_count": null,
      "outputs": []
    },
    {
      "cell_type": "code",
      "source": [],
      "metadata": {
        "id": "_euE7XuNFBJQ"
      },
      "execution_count": null,
      "outputs": []
    },
    {
      "cell_type": "code",
      "source": [],
      "metadata": {
        "id": "rQLVni-qBoXl"
      },
      "execution_count": null,
      "outputs": []
    }
  ]
}